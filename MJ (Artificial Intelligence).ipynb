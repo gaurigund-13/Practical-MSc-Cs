{
 "cells": [
  {
   "cell_type": "markdown",
   "id": "31de2a9b",
   "metadata": {},
   "source": [
    "#### 1. Python program that demonstrates the hill climbing algorithm to find the maximum of a mathematical function (f(x) = -x^2 + 4x)."
   ]
  },
  {
   "cell_type": "code",
   "execution_count": 3,
   "id": "e7e1bd2c",
   "metadata": {},
   "outputs": [
    {
     "name": "stdout",
     "output_type": "stream",
     "text": [
      "Maximum value 4.0 found at x = 2.0000000000000004\n"
     ]
    }
   ],
   "source": [
    "def hill_climbing(func, start, step_size, max_iterations):\n",
    "    current = start\n",
    "    for _ in range(max_iterations):\n",
    "        next_step = current + step_size\n",
    "        if func(next_step) > func(current):\n",
    "            current = next_step\n",
    "        else:\n",
    "            break\n",
    "    return current, func(current)\n",
    "\n",
    "def function(x):\n",
    "    return -x**2 + 4*x\n",
    "\n",
    "max_x, max_value = hill_climbing(function, start=0, step_size=0.1, max_iterations=1000)\n",
    "print(f\"Maximum value {max_value} found at x = {max_x}\")"
   ]
  },
  {
   "cell_type": "markdown",
   "id": "1be71bd9",
   "metadata": {},
   "source": [
    "#### 2. Write a Python program to implement Depth First Search algorithm. Refer the following graph as an Input for the program. [Initial node=1, Goal node=8]"
   ]
  },
  {
   "cell_type": "code",
   "execution_count": 4,
   "id": "dedd94d4",
   "metadata": {},
   "outputs": [
    {
     "name": "stdout",
     "output_type": "stream",
     "text": [
      "Path to goal node 8 found: True\n"
     ]
    }
   ],
   "source": [
    "def dfs(graph, start, goal, visited=None):\n",
    "    if visited is None:\n",
    "        visited = set()\n",
    "    visited.add(start)\n",
    "    if start == goal:\n",
    "        return True\n",
    "    for neighbor in graph[start]:\n",
    "        if neighbor not in visited:\n",
    "            if dfs(graph, neighbor, goal, visited):\n",
    "                return True\n",
    "    return False\n",
    "\n",
    "graph = {\n",
    "    1: [2, 3],\n",
    "    2: [4, 5],\n",
    "    3: [6],\n",
    "    4: [8],\n",
    "    5: [],\n",
    "    6: [7],\n",
    "    7: [8],\n",
    "    8: []\n",
    "}\n",
    "\n",
    "found = dfs(graph, 1, 8)\n",
    "print(f\"Path to goal node 8 found: {found}\")"
   ]
  },
  {
   "cell_type": "markdown",
   "id": "067a0685",
   "metadata": {},
   "source": [
    "#### 3. Write a python program to generate Calendar for the given month and year."
   ]
  },
  {
   "cell_type": "code",
   "execution_count": 5,
   "id": "6ed5a264",
   "metadata": {},
   "outputs": [
    {
     "name": "stdout",
     "output_type": "stream",
     "text": [
      "    October 2024\n",
      "Mo Tu We Th Fr Sa Su\n",
      "    1  2  3  4  5  6\n",
      " 7  8  9 10 11 12 13\n",
      "14 15 16 17 18 19 20\n",
      "21 22 23 24 25 26 27\n",
      "28 29 30 31\n",
      "\n"
     ]
    }
   ],
   "source": [
    "import calendar\n",
    "\n",
    "def print_calendar(year, month):\n",
    "    print(calendar.month(year, month))\n",
    "\n",
    "# Example usage\n",
    "year = 2024\n",
    "month = 10\n",
    "print_calendar(year, month)"
   ]
  },
  {
   "cell_type": "markdown",
   "id": "c05e9d04",
   "metadata": {},
   "source": [
    "#### 4. Write a Python program to implement Depth First Search algorithm. Refer the following graph as an Input for the program. [Initial node=1, Goal node=7]"
   ]
  },
  {
   "cell_type": "code",
   "execution_count": 6,
   "id": "4cf48d5b",
   "metadata": {},
   "outputs": [
    {
     "name": "stdout",
     "output_type": "stream",
     "text": [
      "Path to goal node 7 found: True\n"
     ]
    }
   ],
   "source": [
    "def dfs(graph, start, goal, visited=None):\n",
    "    if visited is None:\n",
    "        visited = set()\n",
    "    visited.add(start)\n",
    "    if start == goal:\n",
    "        return True\n",
    "    for neighbor in graph[start]:\n",
    "        if neighbor not in visited:\n",
    "            if dfs(graph, neighbor, goal, visited):\n",
    "                return True\n",
    "    return False\n",
    "\n",
    "graph = {\n",
    "    1: [2, 3],\n",
    "    2: [4, 5],\n",
    "    3: [6],\n",
    "    4: [],\n",
    "    5: [],\n",
    "    6: [7],\n",
    "    7: []\n",
    "}\n",
    "\n",
    "found = dfs(graph, 1, 7)\n",
    "print(f\"Path to goal node 7 found: {found}\")"
   ]
  },
  {
   "cell_type": "markdown",
   "id": "f6598ca5",
   "metadata": {},
   "source": [
    "#### 5. Write a python program to remove punctuations from the given string. "
   ]
  },
  {
   "cell_type": "code",
   "execution_count": 7,
   "id": "b2f67c4a",
   "metadata": {},
   "outputs": [
    {
     "name": "stdout",
     "output_type": "stream",
     "text": [
      "Original string: Hello, World! This is a test string.\n",
      "String without punctuation: Hello World This is a test string\n"
     ]
    }
   ],
   "source": [
    "import string\n",
    "\n",
    "def remove_punctuation(input_string):\n",
    "    return input_string.translate(str.maketrans('', '', string.punctuation))\n",
    "\n",
    "# Example usage\n",
    "input_string = \"Hello, World! This is a test string.\"\n",
    "cleaned_string = remove_punctuation(input_string)\n",
    "print(f\"Original string: {input_string}\")\n",
    "print(f\"String without punctuation: {cleaned_string}\")"
   ]
  },
  {
   "cell_type": "markdown",
   "id": "2a0b97f7",
   "metadata": {},
   "source": [
    "#### 6. Write a Python program to implement Depth First Search algorithm. Refer the following graph as an Input for the program. [Initial node=2, Goal node=7]"
   ]
  },
  {
   "cell_type": "code",
   "execution_count": 8,
   "id": "bd7af726",
   "metadata": {},
   "outputs": [
    {
     "name": "stdout",
     "output_type": "stream",
     "text": [
      "Path to goal node 7 found from node 2: True\n"
     ]
    }
   ],
   "source": [
    "def dfs(graph, start, goal, visited=None):\n",
    "    if visited is None:\n",
    "        visited = set()\n",
    "    visited.add(start)\n",
    "    if start == goal:\n",
    "        return True\n",
    "    for neighbor in graph[start]:\n",
    "        if neighbor not in visited:\n",
    "            if dfs(graph, neighbor, goal, visited):\n",
    "                return True\n",
    "    return False\n",
    "\n",
    "graph = {\n",
    "    1: [2, 3],\n",
    "    2: [4, 5, 6],\n",
    "    3: [],\n",
    "    4: [],\n",
    "    5: [],\n",
    "    6: [7],\n",
    "    7: []\n",
    "}\n",
    "\n",
    "found = dfs(graph, 2, 7)\n",
    "print(f\"Path to goal node 7 found from node 2: {found}\")"
   ]
  },
  {
   "cell_type": "markdown",
   "id": "ca13ac51",
   "metadata": {},
   "source": [
    "#### 7. Python program to implement Lemmatization using NLTK"
   ]
  },
  {
   "cell_type": "code",
   "execution_count": 9,
   "id": "4f08980d",
   "metadata": {},
   "outputs": [
    {
     "name": "stderr",
     "output_type": "stream",
     "text": [
      "[nltk_data] Downloading package wordnet to\n",
      "[nltk_data]     C:\\Users\\user5\\AppData\\Roaming\\nltk_data...\n",
      "[nltk_data]   Package wordnet is already up-to-date!\n",
      "[nltk_data] Downloading package punkt to\n",
      "[nltk_data]     C:\\Users\\user5\\AppData\\Roaming\\nltk_data...\n",
      "[nltk_data]   Package punkt is already up-to-date!\n"
     ]
    },
    {
     "name": "stdout",
     "output_type": "stream",
     "text": [
      "Original text: The cats are running in the parks\n",
      "Lemmatized text: The cat are running in the park\n"
     ]
    }
   ],
   "source": [
    "import nltk\n",
    "from nltk.stem import WordNetLemmatizer\n",
    "\n",
    "# Download required NLTK data\n",
    "nltk.download('wordnet')\n",
    "nltk.download('punkt')\n",
    "\n",
    "lemmatizer = WordNetLemmatizer()\n",
    "\n",
    "def lemmatize_text(text):\n",
    "    # Tokenize the text into words\n",
    "    words = nltk.word_tokenize(text)\n",
    "    \n",
    "    # Lemmatize each word\n",
    "    lemmatized_words = [lemmatizer.lemmatize(word) for word in words]\n",
    "    \n",
    "    # Join the lemmatized words back into a sentence\n",
    "    lemmatized_text = ' '.join(lemmatized_words)\n",
    "    \n",
    "    return lemmatized_text\n",
    "\n",
    "# Example usage\n",
    "text = \"The cats are running in the parks\"\n",
    "lemmatized = lemmatize_text(text)\n",
    "print(\"Original text:\", text)\n",
    "print(\"Lemmatized text:\", lemmatized)"
   ]
  },
  {
   "cell_type": "markdown",
   "id": "ca354aa4",
   "metadata": {},
   "source": [
    "#### 9.Python program to remove stop words from a given passage in a text file using NLTK"
   ]
  },
  {
   "cell_type": "code",
   "execution_count": 4,
   "id": "5278ea2f",
   "metadata": {},
   "outputs": [
    {
     "name": "stdout",
     "output_type": "stream",
     "text": [
      "Text with stop words removed:\n",
      "\n"
     ]
    },
    {
     "name": "stderr",
     "output_type": "stream",
     "text": [
      "[nltk_data] Downloading package punkt to\n",
      "[nltk_data]     C:\\Users\\user5\\AppData\\Roaming\\nltk_data...\n",
      "[nltk_data]   Package punkt is already up-to-date!\n",
      "[nltk_data] Downloading package stopwords to\n",
      "[nltk_data]     C:\\Users\\user5\\AppData\\Roaming\\nltk_data...\n",
      "[nltk_data]   Package stopwords is already up-to-date!\n"
     ]
    }
   ],
   "source": [
    "import nltk\n",
    "from nltk.corpus import stopwords\n",
    "from nltk.tokenize import word_tokenize\n",
    "\n",
    "# Download required NLTK data\n",
    "nltk.download('punkt')\n",
    "nltk.download('stopwords')\n",
    "\n",
    "def remove_stopwords(file_path):\n",
    "    # Read the content of the file\n",
    "    with open(file_path, 'r') as file:\n",
    "        text = file.read()\n",
    "\n",
    "    # Tokenize the text\n",
    "    words = word_tokenize(text)\n",
    "\n",
    "    # Get the list of English stop words\n",
    "    stop_words = set(stopwords.words('english'))\n",
    "\n",
    "    # Remove stop words\n",
    "    filtered_words = [word for word in words if word.lower() not in stop_words]\n",
    "\n",
    "    # Join the filtered words back into a string\n",
    "    filtered_text = ' '.join(filtered_words)\n",
    "\n",
    "    return filtered_text\n",
    "\n",
    "# Example usage\n",
    "file_path = 'input.txt'  # Replace with your text file path\n",
    "result = remove_stopwords(file_path)\n",
    "print(\"Text with stop words removed:\")\n",
    "print(result)"
   ]
  },
  {
   "cell_type": "code",
   "execution_count": 5,
   "id": "ea778898",
   "metadata": {},
   "outputs": [],
   "source": [
    "def print_board(board):\n",
    "    for row in board:\n",
    "        print(\" \".join(row))\n",
    "    print()\n",
    "\n",
    "def is_winner(board, player):\n",
    "    # Check rows, columns, and diagonals\n",
    "    for i in range(3):\n",
    "        if all(board[i][j] == player for j in range(3)) or \\\n",
    "           all(board[j][i] == player for j in range(3)):\n",
    "            return True\n",
    "    if all(board[i][i] == player for i in range(3)) or \\\n",
    "       all(board[i][2-i] == player for i in range(3)):\n",
    "        return True"
   ]
  },
  {
   "cell_type": "markdown",
   "id": "652c4ea4",
   "metadata": {},
   "source": [
    "##### 12.Write a Python program to accept a string. Find and print the number of upper case alphabets and lower case alphabets"
   ]
  },
  {
   "cell_type": "code",
   "execution_count": 6,
   "id": "e6d084a9",
   "metadata": {
    "scrolled": true
   },
   "outputs": [
    {
     "name": "stdout",
     "output_type": "stream",
     "text": [
      "Enter a string: DFGpoiuy\n",
      "Number of uppercase alphabets: 3\n",
      "Number of lowercase alphabets: 5\n"
     ]
    }
   ],
   "source": [
    "def count_case_alphabets(input_string):\n",
    "    upper_case_count = 0\n",
    "    lower_case_count = 0\n",
    "    \n",
    "    for char in input_string:\n",
    "        if char.isupper():\n",
    "            upper_case_count += 1\n",
    "        elif char.islower():\n",
    "            lower_case_count += 1\n",
    "    \n",
    "    return upper_case_count, lower_case_count\n",
    "\n",
    "# Example usage\n",
    "input_string = input(\"Enter a string: \")\n",
    "upper_count, lower_count = count_case_alphabets(input_string)\n",
    "\n",
    "print(\"Number of uppercase alphabets:\", upper_count)\n",
    "print(\"Number of lowercase alphabets:\", lower_count)"
   ]
  },
  {
   "cell_type": "markdown",
   "id": "1e9a2725",
   "metadata": {},
   "source": [
    "#### 16.Write a python program using mean end analysis algorithm problem of transforming a string of lowercase letters into another string."
   ]
  },
  {
   "cell_type": "code",
   "execution_count": 7,
   "id": "2390f9e7",
   "metadata": {},
   "outputs": [
    {
     "name": "stdout",
     "output_type": "stream",
     "text": [
      "Transforming 'abc' into 'bcd':\n",
      "Current string: bbc\n",
      "Current string: bcc\n",
      "Current string: bcd\n",
      "\n",
      "Operations to transform:\n",
      "Replace 'a' with 'b'\n",
      "Replace 'b' with 'c'\n",
      "Replace 'c' with 'd'\n"
     ]
    }
   ],
   "source": [
    "def mean_end_analysis(start, goal):\n",
    "    operations = []\n",
    "    \n",
    "    # While start string is not equal to goal string\n",
    "    while start != goal:\n",
    "        # If the lengths are different, we can either add or remove characters\n",
    "        if len(start) < len(goal):\n",
    "            # Add the missing character from goal\n",
    "            for char in goal:\n",
    "                if char not in start:\n",
    "                    operations.append(f\"Add '{char}'\")\n",
    "                    start += char\n",
    "                    break\n",
    "        elif len(start) > len(goal):\n",
    "            # Remove the last character\n",
    "            operations.append(f\"Remove '{start[-1]}'\")\n",
    "            start = start[:-1]\n",
    "        else:\n",
    "            # If lengths are equal, we can replace a character\n",
    "            for i in range(len(start)):\n",
    "                if start[i] != goal[i]:\n",
    "                    operations.append(f\"Replace '{start[i]}' with '{goal[i]}'\")\n",
    "                    start = start[:i] + goal[i] + start[i+1:]\n",
    "                    break\n",
    "\n",
    "        print(f\"Current string: {start}\")\n",
    "    \n",
    "    return operations\n",
    "\n",
    "# Example usage\n",
    "start_string = \"abc\"\n",
    "goal_string = \"bcd\"\n",
    "print(f\"Transforming '{start_string}' into '{goal_string}':\")\n",
    "operations = mean_end_analysis(start_string, goal_string)\n",
    "\n",
    "print(\"\\nOperations to transform:\")\n",
    "for operation in operations:\n",
    "    print(operation)"
   ]
  }
 ],
 "metadata": {
  "kernelspec": {
   "display_name": "Python 3 (ipykernel)",
   "language": "python",
   "name": "python3"
  },
  "language_info": {
   "codemirror_mode": {
    "name": "ipython",
    "version": 3
   },
   "file_extension": ".py",
   "mimetype": "text/x-python",
   "name": "python",
   "nbconvert_exporter": "python",
   "pygments_lexer": "ipython3",
   "version": "3.11.1"
  }
 },
 "nbformat": 4,
 "nbformat_minor": 5
}
